{
 "cells": [
  {
   "cell_type": "code",
   "execution_count": 12,
   "id": "5e091290",
   "metadata": {},
   "outputs": [
    {
     "name": "stdout",
     "output_type": "stream",
     "text": [
      "Enter number whose table you want11\n",
      "Enter number till you want the table25\n",
      "11 * 1  =  11\n",
      "11 * 2  =  22\n",
      "11 * 3  =  33\n",
      "11 * 4  =  44\n",
      "11 * 5  =  55\n",
      "11 * 6  =  66\n",
      "11 * 7  =  77\n",
      "11 * 8  =  88\n",
      "11 * 9  =  99\n",
      "11 * 10  =  110\n",
      "11 * 11  =  121\n",
      "11 * 12  =  132\n",
      "11 * 13  =  143\n",
      "11 * 14  =  154\n",
      "11 * 15  =  165\n",
      "11 * 16  =  176\n",
      "11 * 17  =  187\n",
      "11 * 18  =  198\n",
      "11 * 19  =  209\n",
      "11 * 20  =  220\n",
      "11 * 21  =  231\n",
      "11 * 22  =  242\n",
      "11 * 23  =  253\n",
      "11 * 24  =  264\n",
      "11 * 25  =  275\n"
     ]
    }
   ],
   "source": [
    "\n",
    "\"\"\"Code of Writing table of user accepted number and user accepted end value\"\"\" \n",
    "\n",
    "# Taking input for the user.\n",
    "# int() is used to convert the input into integer.\n",
    "\n",
    "\n",
    "num=int(input(\"Enter number whose table you want\"))\n",
    "till=int(input(\"Enter number till you want the table\"))\n",
    "\n",
    "# Creating function so that it can be called any time.\n",
    "\n",
    "def Table():\n",
    "    # Use for loop to run the loop till we want. till= the end untill we want to get our table\n",
    "    for x in range(1,till+1):\n",
    "        Tab=num*x\n",
    "        print(f\"{num} * {x}  = \", Tab)\n",
    "        \n",
    "    # Calling the function.\n",
    "Table()"
   ]
  },
  {
   "cell_type": "code",
   "execution_count": null,
   "id": "4dba5798",
   "metadata": {},
   "outputs": [],
   "source": []
  }
 ],
 "metadata": {
  "kernelspec": {
   "display_name": "Python 3 (ipykernel)",
   "language": "python",
   "name": "python3"
  },
  "language_info": {
   "codemirror_mode": {
    "name": "ipython",
    "version": 3
   },
   "file_extension": ".py",
   "mimetype": "text/x-python",
   "name": "python",
   "nbconvert_exporter": "python",
   "pygments_lexer": "ipython3",
   "version": "3.11.4"
  }
 },
 "nbformat": 4,
 "nbformat_minor": 5
}
