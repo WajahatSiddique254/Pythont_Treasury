{
 "cells": [
  {
   "cell_type": "markdown",
   "metadata": {
    "id": "sVeQjZxqJZ9-"
   },
   "source": [
    "# **Simple Linear Regression Assignment**"
   ]
  },
  {
   "cell_type": "markdown",
   "metadata": {},
   "source": [
    "### **Getting required packages**"
   ]
  },
  {
   "cell_type": "code",
   "execution_count": 56,
   "metadata": {
    "id": "mmwSc7AIJWSe"
   },
   "outputs": [],
   "source": [
    "import pandas as pd\n",
    "import numpy as np\n",
    "import seaborn as sns\n",
    "import matplotlib.pyplot as plt\n",
    "from sklearn.model_selection import train_test_split\n",
    "from sklearn.preprocessing import StandardScaler\n",
    "from sklearn.linear_model import LinearRegression, Ridge, Lasso\n",
    "from sklearn.metrics import mean_squared_error, mean_absolute_error, r2_score"
   ]
  },
  {
   "cell_type": "markdown",
   "metadata": {},
   "source": [
    "### **uploading data and viewing dataframe**"
   ]
  },
  {
   "cell_type": "code",
   "execution_count": 57,
   "metadata": {
    "colab": {
     "base_uri": "https://localhost:8080/",
     "height": 363
    },
    "id": "dsGqXD5OTJ4u",
    "outputId": "9c4b68ba-dd7d-43ef-bd79-7ebeb1bd2c72"
   },
   "outputs": [
    {
     "data": {
      "text/html": [
       "<div>\n",
       "<style scoped>\n",
       "    .dataframe tbody tr th:only-of-type {\n",
       "        vertical-align: middle;\n",
       "    }\n",
       "\n",
       "    .dataframe tbody tr th {\n",
       "        vertical-align: top;\n",
       "    }\n",
       "\n",
       "    .dataframe thead th {\n",
       "        text-align: right;\n",
       "    }\n",
       "</style>\n",
       "<table border=\"1\" class=\"dataframe\">\n",
       "  <thead>\n",
       "    <tr style=\"text-align: right;\">\n",
       "      <th></th>\n",
       "      <th>area</th>\n",
       "      <th>bedrooms</th>\n",
       "      <th>bathrooms</th>\n",
       "      <th>floors</th>\n",
       "      <th>price</th>\n",
       "    </tr>\n",
       "  </thead>\n",
       "  <tbody>\n",
       "    <tr>\n",
       "      <th>0</th>\n",
       "      <td>1360</td>\n",
       "      <td>2</td>\n",
       "      <td>1</td>\n",
       "      <td>2</td>\n",
       "      <td>75561.009869</td>\n",
       "    </tr>\n",
       "    <tr>\n",
       "      <th>1</th>\n",
       "      <td>4272</td>\n",
       "      <td>3</td>\n",
       "      <td>3</td>\n",
       "      <td>1</td>\n",
       "      <td>197449.640308</td>\n",
       "    </tr>\n",
       "    <tr>\n",
       "      <th>2</th>\n",
       "      <td>3592</td>\n",
       "      <td>1</td>\n",
       "      <td>2</td>\n",
       "      <td>1</td>\n",
       "      <td>180621.795096</td>\n",
       "    </tr>\n",
       "    <tr>\n",
       "      <th>3</th>\n",
       "      <td>966</td>\n",
       "      <td>1</td>\n",
       "      <td>2</td>\n",
       "      <td>2</td>\n",
       "      <td>45234.416477</td>\n",
       "    </tr>\n",
       "    <tr>\n",
       "      <th>4</th>\n",
       "      <td>4926</td>\n",
       "      <td>2</td>\n",
       "      <td>1</td>\n",
       "      <td>2</td>\n",
       "      <td>232342.452693</td>\n",
       "    </tr>\n",
       "  </tbody>\n",
       "</table>\n",
       "</div>"
      ],
      "text/plain": [
       "   area  bedrooms  bathrooms  floors          price\n",
       "0  1360         2          1       2   75561.009869\n",
       "1  4272         3          3       1  197449.640308\n",
       "2  3592         1          2       1  180621.795096\n",
       "3   966         1          2       2   45234.416477\n",
       "4  4926         2          1       2  232342.452693"
      ]
     },
     "execution_count": 57,
     "metadata": {},
     "output_type": "execute_result"
    }
   ],
   "source": [
    "df = pd.read_csv(\"house_dataset.csv\")\n",
    "df.head()"
   ]
  },
  {
   "cell_type": "markdown",
   "metadata": {},
   "source": [
    "### Understandind data"
   ]
  },
  {
   "cell_type": "code",
   "execution_count": 62,
   "metadata": {},
   "outputs": [
    {
     "name": "stdout",
     "output_type": "stream",
     "text": [
      "==============    shape of dataset    ===========================\n",
      "\n",
      "\n",
      "Sahe of dataset is (1000, 5)\n",
      "\n",
      "======================   Columns   =========================\n",
      "\n",
      "\n",
      "columns of dataset: Index(['area', 'bedrooms', 'bathrooms', 'floors', 'price'], dtype='object')\n",
      "\n",
      "\n",
      "=================   Infomation of dataset   ==================\n",
      "\n",
      "<class 'pandas.core.frame.DataFrame'>\n",
      "RangeIndex: 1000 entries, 0 to 999\n",
      "Data columns (total 5 columns):\n",
      " #   Column     Non-Null Count  Dtype  \n",
      "---  ------     --------------  -----  \n",
      " 0   area       1000 non-null   int64  \n",
      " 1   bedrooms   1000 non-null   int64  \n",
      " 2   bathrooms  1000 non-null   int64  \n",
      " 3   floors     1000 non-null   int64  \n",
      " 4   price      1000 non-null   float64\n",
      "dtypes: float64(1), int64(4)\n",
      "memory usage: 39.2 KB\n",
      "None\n",
      "\n",
      "\n",
      "==================    Summary statistics   ===================\n",
      "\n",
      "              area     bedrooms    bathrooms       floors          price\n",
      "count  1000.000000  1000.000000  1000.000000  1000.000000    1000.000000\n",
      "mean   2815.422000     2.990000     1.973000     1.489000  141138.789936\n",
      "std    1255.514921     1.427564     0.820332     0.500129   63233.613042\n",
      "min     503.000000     1.000000     1.000000     1.000000    7243.014853\n",
      "25%    1749.500000     2.000000     1.000000     1.000000   88009.083503\n",
      "50%    2862.500000     3.000000     2.000000     1.000000  141225.486263\n",
      "75%    3849.500000     4.000000     3.000000     2.000000  191752.725820\n",
      "max    4999.000000     5.000000     3.000000     2.000000  267776.513729\n"
     ]
    }
   ],
   "source": [
    "print(\"==============    shape of dataset    ===========================\")\n",
    "print()\n",
    "print()\n",
    "df.shape\n",
    "print(f\"Sahe of dataset is {df.shape}\")\n",
    "print()\n",
    "print(\"======================   Columns   =========================\")\n",
    "print()\n",
    "print()\n",
    "\n",
    "\n",
    "df.columns\n",
    "print(f\"columns of dataset: {df.columns}\")\n",
    "print()\n",
    "print()\n",
    "print(\"=================   Infomation of dataset   ==================\")\n",
    "print()\n",
    "print(df.info())\n",
    "\n",
    "print()\n",
    "print()\n",
    "print(\"==================    Summary statistics   ===================\")\n",
    "print()\n",
    "print(df.describe())"
   ]
  },
  {
   "cell_type": "markdown",
   "metadata": {},
   "source": [
    "### Data wrangling/cleaning"
   ]
  },
  {
   "cell_type": "code",
   "execution_count": 66,
   "metadata": {},
   "outputs": [
    {
     "name": "stdout",
     "output_type": "stream",
     "text": [
      "================Sum of missing values column-wise==================\n",
      "area         0\n",
      "bedrooms     0\n",
      "bathrooms    0\n",
      "floors       0\n",
      "price        0\n",
      "dtype: int64\n",
      "================Sum of duplicate values ==================\n",
      "\n",
      "Duplicate values in dataset are 0\n"
     ]
    }
   ],
   "source": [
    "print(\"================Sum of missing values column-wise==================\")\n",
    "print(df.isna().sum())\n",
    "\n",
    "\n",
    "print(\"================Sum of duplicate values ==================\")\n",
    "print()\n",
    "print(f\"Duplicate values in dataset are {df.duplicated().sum()}\")"
   ]
  },
  {
   "cell_type": "code",
   "execution_count": null,
   "metadata": {},
   "outputs": [],
   "source": [
    "# df[\"price_per_sqft\"] = df['price']/df['area']\n",
    "df = df.assign(price_per_sqft=df['price']/df['area'])"
   ]
  },
  {
   "cell_type": "markdown",
   "metadata": {},
   "source": [
    "### Input and output variables:"
   ]
  },
  {
   "cell_type": "code",
   "execution_count": null,
   "metadata": {},
   "outputs": [],
   "source": [
    "X = df.drop(['price','price_per_sqft'], axis=1)  # Features excluding the target variable\n",
    "y = df['price']  # Target variable"
   ]
  },
  {
   "cell_type": "code",
   "execution_count": null,
   "metadata": {},
   "outputs": [],
   "source": [
    "# Feature scaling\n",
    "ss = StandardScaler()\n",
    "X = ss.fit_transform(X)"
   ]
  },
  {
   "cell_type": "markdown",
   "metadata": {},
   "source": [
    "### features destribution"
   ]
  },
  {
   "cell_type": "code",
   "execution_count": null,
   "metadata": {
    "colab": {
     "base_uri": "https://localhost:8080/",
     "height": 1000
    },
    "id": "R1xsd8atSxFm",
    "outputId": "3faa95ab-d24d-4946-e19a-f22cbd44b842",
    "scrolled": true
   },
   "outputs": [],
   "source": [
    "import seaborn as sns\n",
    "df.hist(bins=20, figsize=(12,12))\n",
    "plt.show()"
   ]
  },
  {
   "cell_type": "markdown",
   "metadata": {},
   "source": [
    "### visualize relationships"
   ]
  },
  {
   "cell_type": "code",
   "execution_count": null,
   "metadata": {
    "colab": {
     "base_uri": "https://localhost:8080/",
     "height": 452
    },
    "id": "pLV2tkKzOxCQ",
    "outputId": "9a3fc4ce-bf63-449b-be84-e6c031576bb4",
    "scrolled": true
   },
   "outputs": [],
   "source": [
    "sns.heatmap(df.corr(), annot=True)"
   ]
  },
  {
   "cell_type": "markdown",
   "metadata": {
    "id": "_p5O9bjkJqF6"
   },
   "source": [
    "### spliting data, and training models"
   ]
  },
  {
   "cell_type": "code",
   "execution_count": null,
   "metadata": {},
   "outputs": [],
   "source": [
    "# Split the data into training and testing sets\n",
    "X_train, X_test, y_train, y_test = train_test_split(X, y, train_size=0.8, random_state=681)"
   ]
  },
  {
   "cell_type": "code",
   "execution_count": null,
   "metadata": {},
   "outputs": [],
   "source": [
    "linear_reg = LinearRegression()\n",
    "linear_reg.fit(X_train, y_train)\n",
    "y_linear_pred = linear_reg.predict(X_test)"
   ]
  },
  {
   "cell_type": "code",
   "execution_count": null,
   "metadata": {},
   "outputs": [],
   "source": [
    "ridge = Ridge()\n",
    "ridge.fit(X_train, y_train)\n",
    "y_ridge_pred = ridge.predict(X_test)"
   ]
  },
  {
   "cell_type": "code",
   "execution_count": null,
   "metadata": {},
   "outputs": [],
   "source": [
    "lasso = Lasso()\n",
    "lasso.fit(X_train, y_train)\n",
    "y_lasso_pred = lasso.predict(X_test)"
   ]
  },
  {
   "cell_type": "markdown",
   "metadata": {
    "id": "bOZoU9yIJ93D"
   },
   "source": [
    "### Measuring model performance:"
   ]
  },
  {
   "cell_type": "code",
   "execution_count": null,
   "metadata": {},
   "outputs": [],
   "source": [
    "print(\"===================Root_mean_square_error of Linear_reg============\")\n",
    "print()\n",
    "print()\n",
    "mse=mean_squared_error(y_test, y_linear_pred)\n",
    "print()\n",
    "print()\n",
    "print(f\"Mean square error of Linear regression  is \\n {mse}\")\n",
    "print()\n",
    "print()\n",
    "print(\"==================Root_mean_square_error of Linear_reg============\")\n",
    "print()\n",
    "print()\n",
    "mse=mean_squared_error(y_test, y_ridge_pred)\n",
    "print(f\"Mean square error of Linear regression  is \\n {mse}\")\n",
    "print()\n",
    "print()\n",
    "print(\"==================Root_mean_square_error of Linear_reg============\")\n",
    "print()\n",
    "print()\n",
    "mse=mean_squared_error(y_test, y_lasso_pred)\n",
    "print(f\"Mean square error of Linear regression  is \\n {mse}\")\n",
    "print()\n",
    "print()"
   ]
  },
  {
   "cell_type": "markdown",
   "metadata": {},
   "source": [
    "### Visualizationing "
   ]
  },
  {
   "cell_type": "code",
   "execution_count": null,
   "metadata": {},
   "outputs": [],
   "source": [
    "# Linear regression Residuals vs Actuals\n",
    "residuals = y_test - y_linear_pred\n",
    "plt.scatter(y_test, residuals, c=residuals, cmap='RdYlGn')\n",
    "plt.xlabel(\"y_Actual\")\n",
    "plt.ylabel(\"y_Predicted\")\n",
    "plt.title(\"residuals vs actual\")\n",
    "plt.show()\n",
    "\n",
    "# Linear regreesion Actual vs Predicted\n",
    "plt.scatter(y_test, y_linear_pred, c='lightgreen')\n",
    "plt.plot(y_test, y_test, c='red')\n",
    "plt.legend(['y_Predicted', 'y_Actual'])\n",
    "plt.xlabel(\"y_Actual\")\n",
    "plt.ylabel(\"y_Predicted\")\n",
    "plt.title(\"actual vs predicted\")\n",
    "plt.show()"
   ]
  },
  {
   "cell_type": "code",
   "execution_count": null,
   "metadata": {},
   "outputs": [],
   "source": [
    "\n",
    "# ridge Residuals vs Actuals\n",
    "residuals = y_test - y_ridge_pred\n",
    "plt.scatter(y_test, residuals, c=residuals, cmap='RdYlGn')\n",
    "plt.xlabel(\"y_Actual\")\n",
    "plt.ylabel(\"y_Predicted\")\n",
    "plt.title(\"Residuals vs Actual\")\n",
    "plt.show()\n",
    "\n",
    "# ridge Actual vs Predicted\n",
    "plt.scatter(y_test, y_ridge_pred, c='lightblue')\n",
    "plt.plot(y_test, y_test, c='green')\n",
    "plt.legend(['y_Predicted', 'y_Actual'])\n",
    "plt.xlabel(\"y_Actual\")\n",
    "plt.ylabel(\"y_Predicted\")\n",
    "plt.title(\"Actual vs Predicted\")\n",
    "plt.show()"
   ]
  },
  {
   "cell_type": "code",
   "execution_count": null,
   "metadata": {
    "colab": {
     "base_uri": "https://localhost:8080/",
     "height": 1000
    },
    "id": "3tzS0FZdXLoy",
    "outputId": "f7b3c87a-06f8-4565-b208-3a8d6e0962e4",
    "scrolled": true
   },
   "outputs": [],
   "source": [
    "## Residuals vs Actuals\n",
    "residuals = y_test - y_lasso_pred\n",
    "plt.scatter(y_test, residuals, c=residuals, cmap='RdYlGn')\n",
    "plt.xlabel(\"y_Actual\")\n",
    "plt.ylabel(\"y_Predicted\")\n",
    "plt.title(\"Residuals vs Actual\")\n",
    "plt.show()\n",
    "\n",
    "# lasso Actual vs Predicted\n",
    "plt.scatter(y_test, y_lasso_pred, c='pink')\n",
    "plt.plot(y_test, y_test, c='green')\n",
    "plt.legend(['y_Predicted', 'y_Actual'])\n",
    "plt.xlabel(\"y_Actual\")\n",
    "plt.ylabel(\"y_Predicted\")\n",
    "plt.title(\"Actual vs Predicted\")\n",
    "plt.show()"
   ]
  },
  {
   "cell_type": "markdown",
   "metadata": {},
   "source": [
    "# Thank you"
   ]
  }
 ],
 "metadata": {
  "colab": {
   "provenance": []
  },
  "kernelspec": {
   "display_name": "Python 3 (ipykernel)",
   "language": "python",
   "name": "python3"
  },
  "language_info": {
   "codemirror_mode": {
    "name": "ipython",
    "version": 3
   },
   "file_extension": ".py",
   "mimetype": "text/x-python",
   "name": "python",
   "nbconvert_exporter": "python",
   "pygments_lexer": "ipython3",
   "version": "3.11.4"
  }
 },
 "nbformat": 4,
 "nbformat_minor": 1
}
